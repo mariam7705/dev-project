{
  "nbformat": 4,
  "nbformat_minor": 0,
  "metadata": {
    "colab": {
      "provenance": [],
      "authorship_tag": "ABX9TyN24OS1COCgr1w59rlRfed/",
      "include_colab_link": true
    },
    "kernelspec": {
      "name": "python3",
      "display_name": "Python 3"
    },
    "language_info": {
      "name": "python"
    }
  },
  "cells": [
    {
      "cell_type": "markdown",
      "metadata": {
        "id": "view-in-github",
        "colab_type": "text"
      },
      "source": [
        "<a href=\"https://colab.research.google.com/github/mariam7705/dev-project/blob/main/WEEK_1.ipynb\" target=\"_parent\"><img src=\"https://colab.research.google.com/assets/colab-badge.svg\" alt=\"Open In Colab\"/></a>"
      ]
    },
    {
      "cell_type": "code",
      "source": [
        "import pandas as pd\n",
        "\n",
        "# Load datasets for each city\n",
        "df_city1 = pd.read_csv('/content/delivery_cq.csv')\n",
        "df_city2 = pd.read_csv('/content/delivery_delivery_jl.csv')\n",
        "df_city3 = pd.read_csv('/content/delivery_hz.csv')\n",
        "df_city4 = pd.read_csv('/content/delivery_sh.csv')\n",
        "df_city5 = pd.read_csv('/content/delivery_yt.csv')"
      ],
      "metadata": {
        "id": "tr6oLK1ITcb6"
      },
      "execution_count": 4,
      "outputs": []
    },
    {
      "cell_type": "code",
      "source": [
        "df_city1['city'] = 'City1'\n",
        "df_city2['city'] = 'City2'\n",
        "df_city3['city'] = 'City3'\n",
        "df_city4['city'] = 'City4'\n",
        "df_city5['city'] = 'City5'"
      ],
      "metadata": {
        "id": "v5p355myUS0E"
      },
      "execution_count": 5,
      "outputs": []
    },
    {
      "cell_type": "code",
      "source": [
        "merged_df = pd.concat([df_city1, df_city2, df_city3, df_city4, df_city5], ignore_index=True)"
      ],
      "metadata": {
        "id": "tv1uw3dZU0Bu"
      },
      "execution_count": 6,
      "outputs": []
    },
    {
      "cell_type": "code",
      "source": [
        "print(merged_df.info())\n",
        "print(merged_df['city'].value_counts())"
      ],
      "metadata": {
        "colab": {
          "base_uri": "https://localhost:8080/"
        },
        "id": "UI_jsU6YU7-m",
        "outputId": "0a6962cb-2aa5-4200-f712-0b9c0b70432a"
      },
      "execution_count": 7,
      "outputs": [
        {
          "output_type": "stream",
          "name": "stdout",
          "text": [
            "<class 'pandas.core.frame.DataFrame'>\n",
            "RangeIndex: 4514661 entries, 0 to 4514660\n",
            "Data columns (total 17 columns):\n",
            " #   Column             Dtype  \n",
            "---  ------             -----  \n",
            " 0   order_id           int64  \n",
            " 1   region_id          int64  \n",
            " 2   city               object \n",
            " 3   courier_id         int64  \n",
            " 4   lng                float64\n",
            " 5   lat                float64\n",
            " 6   aoi_id             int64  \n",
            " 7   aoi_type           int64  \n",
            " 8   accept_time        object \n",
            " 9   accept_gps_time    object \n",
            " 10  accept_gps_lng     float64\n",
            " 11  accept_gps_lat     float64\n",
            " 12  delivery_time      object \n",
            " 13  delivery_gps_time  object \n",
            " 14  delivery_gps_lng   float64\n",
            " 15  delivery_gps_lat   float64\n",
            " 16  ds                 int64  \n",
            "dtypes: float64(6), int64(6), object(5)\n",
            "memory usage: 585.6+ MB\n",
            "None\n",
            "city\n",
            "City3    1861600\n",
            "City4    1483864\n",
            "City1     931351\n",
            "City5     206431\n",
            "City2      31415\n",
            "Name: count, dtype: int64\n"
          ]
        }
      ]
    },
    {
      "cell_type": "code",
      "source": [
        "merged_df.to_csv('merged_city_data.csv', index=False)"
      ],
      "metadata": {
        "id": "7SDWz6vqU73v"
      },
      "execution_count": 10,
      "outputs": []
    },
    {
      "cell_type": "code",
      "source": [
        "merged_df = merged_df.drop_duplicates()"
      ],
      "metadata": {
        "id": "GMkmAV6iVXLE"
      },
      "execution_count": 11,
      "outputs": []
    },
    {
      "cell_type": "code",
      "source": [
        "# Load datasets for each city\n",
        "df_pickup1 = pd.read_csv('/content/pickup_cq.csv')\n",
        "df_pickup2 = pd.read_csv('/content/pickup_jl.csv')\n",
        "df_pickup3 = pd.read_csv('/content/pickup_hz.csv')\n",
        "df_pickup4 = pd.read_csv('/content/pickup_sh.csv')\n",
        "df_pickup5 = pd.read_csv('/content/pickup_yt.csv')\n",
        "df_pickup4 = pd.read_csv('/content/pickup_sh.csv', low_memory=False)\n",
        "\n"
      ],
      "metadata": {
        "id": "Vl7_UxSbZgAj"
      },
      "execution_count": 12,
      "outputs": []
    },
    {
      "cell_type": "code",
      "source": [
        "df_pickup1['city'] = 'City1'\n",
        "df_pickup2['city'] = 'City2'\n",
        "df_pickup3['city'] = 'City3'\n",
        "df_pickup4['city'] = 'City4'\n",
        "df_pickup5['city'] = 'City5'\n"
      ],
      "metadata": {
        "id": "RrQ7Nn-7aMTH"
      },
      "execution_count": 13,
      "outputs": []
    },
    {
      "cell_type": "code",
      "source": [
        "pickup_merged_df = pd.concat([df_pickup1, df_pickup2, df_pickup3, df_pickup4, df_pickup5], ignore_index=True)\n"
      ],
      "metadata": {
        "id": "uWipAAlkaMFH"
      },
      "execution_count": 14,
      "outputs": []
    },
    {
      "cell_type": "code",
      "source": [
        "pickup_merged_df = pickup_merged_df.drop_duplicates()\n"
      ],
      "metadata": {
        "id": "heA2YfWtdO_B"
      },
      "execution_count": 15,
      "outputs": []
    },
    {
      "cell_type": "code",
      "source": [
        "print(merged_df.info())\n",
        "pickup_merged_df.to_csv('merged_pickup_data.csv', index=False)\n"
      ],
      "metadata": {
        "colab": {
          "base_uri": "https://localhost:8080/"
        },
        "id": "jYnpeIFFaVVW",
        "outputId": "67ec7ac7-992b-442b-e427-b8273b0fc1cf"
      },
      "execution_count": 16,
      "outputs": [
        {
          "output_type": "stream",
          "name": "stdout",
          "text": [
            "<class 'pandas.core.frame.DataFrame'>\n",
            "RangeIndex: 4514661 entries, 0 to 4514660\n",
            "Data columns (total 17 columns):\n",
            " #   Column             Dtype  \n",
            "---  ------             -----  \n",
            " 0   order_id           int64  \n",
            " 1   region_id          int64  \n",
            " 2   city               object \n",
            " 3   courier_id         int64  \n",
            " 4   lng                float64\n",
            " 5   lat                float64\n",
            " 6   aoi_id             int64  \n",
            " 7   aoi_type           int64  \n",
            " 8   accept_time        object \n",
            " 9   accept_gps_time    object \n",
            " 10  accept_gps_lng     float64\n",
            " 11  accept_gps_lat     float64\n",
            " 12  delivery_time      object \n",
            " 13  delivery_gps_time  object \n",
            " 14  delivery_gps_lng   float64\n",
            " 15  delivery_gps_lat   float64\n",
            " 16  ds                 int64  \n",
            "dtypes: float64(6), int64(6), object(5)\n",
            "memory usage: 585.6+ MB\n",
            "None\n"
          ]
        }
      ]
    },
    {
      "cell_type": "code",
      "source": [
        "# Load both merged files\n",
        "pickup_df = pd.read_csv('merged_pickup_data.csv')\n",
        "delivery_df = pd.read_csv('merged_city_data.csv')\n",
        "\n",
        "# Merge based on common key\n",
        "merged_df = pd.merge(pickup_df, delivery_df, on='order_id', how='inner')\n",
        "\n",
        "# Save final cleaned file\n",
        "merged_df.to_csv('final_cleaned_dataset.csv', index=False)\n"
      ],
      "metadata": {
        "id": "VT3uRTJ6efQy"
      },
      "execution_count": null,
      "outputs": []
    },
    {
      "cell_type": "code",
      "source": [
        "import pandas as pd\n",
        "\n",
        "# Step 1: Show missing value report\n",
        "print(\"Missing Values Before Cleaning:\")\n",
        "print(merged_df.isnull().sum())\n",
        "\n",
        "\n",
        "# Step 3: Fill numerical columns (non-GPS) with median\n",
        "merged_df = merged_df.fillna(merged_df.median(numeric_only=True))\n",
        "\n",
        "# Step 4: Fill categorical columns with mode (no chained assignment)\n",
        "for col in merged_df.select_dtypes(include='object'):\n",
        "    mode_val = merged_df[col].mode()\n",
        "    if not mode_val.empty:\n",
        "        merged_df[col] = merged_df[col].fillna(mode_val[0])\n",
        "\n",
        "# Step 5: Leave GPS columns untouched for now (they still contain NaNs)\n",
        "# They will be handled in future feature engineering/modeling stages\n",
        "\n",
        "# Step 6: Save cleaned file\n",
        "merged_df.to_csv(\"final_cleaned_dataset.csv\", index=False)\n",
        "\n",
        "# Step 7: Show post-cleanup info\n",
        "print(\"✅ Data cleaned and saved. GPS columns retained.\")\n",
        "print(\"Updated missing value summary:\")\n",
        "print(merged_df.isnull().sum())\n"
      ],
      "metadata": {
        "id": "tUhupsOhkEFz"
      },
      "execution_count": null,
      "outputs": []
    },
    {
      "cell_type": "code",
      "source": [
        "\n",
        "\n",
        "\n",
        "merged_df['pickup_time_x'] = pd.to_datetime(merged_df['pickup_time_x'], errors='coerce')\n",
        "merged_df['pickup_weekday'] = merged_df['pickup_time_x'].dt.weekday\n",
        "merged_df['is_weekend'] = merged_df['pickup_weekday'].isin([5, 6])\n",
        "merged_df['pickup_date'] = merged_df['pickup_time_x'].dt.date\n",
        "packages_per_courier = merged_df.groupby(['courier_id', 'pickup_date']).size().reset_index(name='packages_assigned')\n",
        "merged_df = pd.merge(merged_df, packages_per_courier, on=['courier_id', 'pickup_date'], how='left')\n"
      ],
      "metadata": {
        "id": "bj0_nwk5k6iT"
      },
      "execution_count": null,
      "outputs": []
    },
    {
      "cell_type": "code",
      "source": [
        "print(merged_df.columns.tolist())\n",
        "\n"
      ],
      "metadata": {
        "id": "oRh8bQvJlbYZ"
      },
      "execution_count": null,
      "outputs": []
    },
    {
      "cell_type": "markdown",
      "source": [
        "LOCATION DATA NORMALIZATION\n"
      ],
      "metadata": {
        "id": "-FsNnXMonj8u"
      }
    },
    {
      "cell_type": "code",
      "source": [
        "\n",
        "merged_df['lat_x'] = pd.to_numeric(merged_df['lat_x'], errors='coerce')\n",
        "merged_df['lng_x'] = pd.to_numeric(merged_df['lng_x'], errors='coerce')\n",
        "merged_df.dropna(subset=['lat_x', 'lng_x'], inplace=True)\n",
        "\n"
      ],
      "metadata": {
        "id": "E8i6bkScnEmB"
      },
      "execution_count": null,
      "outputs": []
    },
    {
      "cell_type": "code",
      "source": [
        "merged_df['lat_y'] = pd.to_numeric(merged_df['lat_y'], errors='coerce')\n",
        "merged_df['lng_y'] = pd.to_numeric(merged_df['lng_y'], errors='coerce')\n",
        "merged_df.dropna(subset=['lat_y', 'lng_y'], inplace=True)\n"
      ],
      "metadata": {
        "id": "MGZCMHJbq87V"
      },
      "execution_count": null,
      "outputs": []
    },
    {
      "cell_type": "markdown",
      "source": [
        ". Standardizing Column Names and Types"
      ],
      "metadata": {
        "id": "_2dP6q-Hqeqb"
      }
    },
    {
      "cell_type": "code",
      "source": [
        "# Make column names lowercase and replace spaces\n",
        "merged_df.columns = [col.strip().lower().replace(' ', '_') for col in merged_df.columns]\n",
        "\n",
        "# Use courier_id_x from pickup dataset as the main courier ID\n",
        "merged_df['courier_id'] = merged_df['courier_id_x'].astype(str)\n"
      ],
      "metadata": {
        "id": "A3gL-tJ2qdp6"
      },
      "execution_count": null,
      "outputs": []
    },
    {
      "cell_type": "code",
      "source": [
        "# See first few rows\n",
        "merged_df.head()\n"
      ],
      "metadata": {
        "colab": {
          "base_uri": "https://localhost:8080/",
          "height": 313
        },
        "id": "lsqGRBACv0rF",
        "outputId": "a9899982-a9c1-4a6d-afad-fbd9d1db94ed"
      },
      "execution_count": 11,
      "outputs": [
        {
          "output_type": "execute_result",
          "data": {
            "text/plain": [
              "   order_id  region_id   city  courier_id        lng       lat  aoi_id  \\\n",
              "0   2031782         10  City1          73  108.71571  30.90228      50   \n",
              "1   4285071         10  City1        3605  108.71639  30.90269      50   \n",
              "2   4056800         10  City1        3605  108.71645  30.90259      50   \n",
              "3   3589481         10  City1        3605  108.71650  30.90347      50   \n",
              "4   2752329         10  City1        3605  108.71608  30.90409      50   \n",
              "\n",
              "   aoi_type     accept_time accept_gps_time  accept_gps_lng  accept_gps_lat  \\\n",
              "0        14  10-22 10:26:00  10-22 10:26:00       108.71826        30.95587   \n",
              "1        14  09-07 10:13:00  09-07 10:13:00       108.71791        30.95635   \n",
              "2        14  06-26 09:49:00  06-26 09:49:00       108.71798        30.95635   \n",
              "3        14  09-11 11:01:00  09-11 11:01:00       108.71823        30.95596   \n",
              "4        14  10-01 09:52:00  10-01 09:52:00       108.71820        30.95598   \n",
              "\n",
              "    delivery_time delivery_gps_time  delivery_gps_lng  delivery_gps_lat    ds  \n",
              "0  10-22 17:04:00    10-22 17:04:00         108.66361          30.96702  1022  \n",
              "1  09-09 15:44:00    09-09 15:44:00         108.71644          30.90266   907  \n",
              "2  06-27 16:03:00    06-27 16:03:00         108.71647          30.90251   626  \n",
              "3  09-13 17:14:00    09-13 17:14:00         108.71650          30.90341   911  \n",
              "4  10-01 18:30:00    10-01 18:30:00         108.71413          30.90397  1001  "
            ],
            "text/html": [
              "\n",
              "  <div id=\"df-1743e471-99be-406c-b4c6-43328ef79b25\" class=\"colab-df-container\">\n",
              "    <div>\n",
              "<style scoped>\n",
              "    .dataframe tbody tr th:only-of-type {\n",
              "        vertical-align: middle;\n",
              "    }\n",
              "\n",
              "    .dataframe tbody tr th {\n",
              "        vertical-align: top;\n",
              "    }\n",
              "\n",
              "    .dataframe thead th {\n",
              "        text-align: right;\n",
              "    }\n",
              "</style>\n",
              "<table border=\"1\" class=\"dataframe\">\n",
              "  <thead>\n",
              "    <tr style=\"text-align: right;\">\n",
              "      <th></th>\n",
              "      <th>order_id</th>\n",
              "      <th>region_id</th>\n",
              "      <th>city</th>\n",
              "      <th>courier_id</th>\n",
              "      <th>lng</th>\n",
              "      <th>lat</th>\n",
              "      <th>aoi_id</th>\n",
              "      <th>aoi_type</th>\n",
              "      <th>accept_time</th>\n",
              "      <th>accept_gps_time</th>\n",
              "      <th>accept_gps_lng</th>\n",
              "      <th>accept_gps_lat</th>\n",
              "      <th>delivery_time</th>\n",
              "      <th>delivery_gps_time</th>\n",
              "      <th>delivery_gps_lng</th>\n",
              "      <th>delivery_gps_lat</th>\n",
              "      <th>ds</th>\n",
              "    </tr>\n",
              "  </thead>\n",
              "  <tbody>\n",
              "    <tr>\n",
              "      <th>0</th>\n",
              "      <td>2031782</td>\n",
              "      <td>10</td>\n",
              "      <td>City1</td>\n",
              "      <td>73</td>\n",
              "      <td>108.71571</td>\n",
              "      <td>30.90228</td>\n",
              "      <td>50</td>\n",
              "      <td>14</td>\n",
              "      <td>10-22 10:26:00</td>\n",
              "      <td>10-22 10:26:00</td>\n",
              "      <td>108.71826</td>\n",
              "      <td>30.95587</td>\n",
              "      <td>10-22 17:04:00</td>\n",
              "      <td>10-22 17:04:00</td>\n",
              "      <td>108.66361</td>\n",
              "      <td>30.96702</td>\n",
              "      <td>1022</td>\n",
              "    </tr>\n",
              "    <tr>\n",
              "      <th>1</th>\n",
              "      <td>4285071</td>\n",
              "      <td>10</td>\n",
              "      <td>City1</td>\n",
              "      <td>3605</td>\n",
              "      <td>108.71639</td>\n",
              "      <td>30.90269</td>\n",
              "      <td>50</td>\n",
              "      <td>14</td>\n",
              "      <td>09-07 10:13:00</td>\n",
              "      <td>09-07 10:13:00</td>\n",
              "      <td>108.71791</td>\n",
              "      <td>30.95635</td>\n",
              "      <td>09-09 15:44:00</td>\n",
              "      <td>09-09 15:44:00</td>\n",
              "      <td>108.71644</td>\n",
              "      <td>30.90266</td>\n",
              "      <td>907</td>\n",
              "    </tr>\n",
              "    <tr>\n",
              "      <th>2</th>\n",
              "      <td>4056800</td>\n",
              "      <td>10</td>\n",
              "      <td>City1</td>\n",
              "      <td>3605</td>\n",
              "      <td>108.71645</td>\n",
              "      <td>30.90259</td>\n",
              "      <td>50</td>\n",
              "      <td>14</td>\n",
              "      <td>06-26 09:49:00</td>\n",
              "      <td>06-26 09:49:00</td>\n",
              "      <td>108.71798</td>\n",
              "      <td>30.95635</td>\n",
              "      <td>06-27 16:03:00</td>\n",
              "      <td>06-27 16:03:00</td>\n",
              "      <td>108.71647</td>\n",
              "      <td>30.90251</td>\n",
              "      <td>626</td>\n",
              "    </tr>\n",
              "    <tr>\n",
              "      <th>3</th>\n",
              "      <td>3589481</td>\n",
              "      <td>10</td>\n",
              "      <td>City1</td>\n",
              "      <td>3605</td>\n",
              "      <td>108.71650</td>\n",
              "      <td>30.90347</td>\n",
              "      <td>50</td>\n",
              "      <td>14</td>\n",
              "      <td>09-11 11:01:00</td>\n",
              "      <td>09-11 11:01:00</td>\n",
              "      <td>108.71823</td>\n",
              "      <td>30.95596</td>\n",
              "      <td>09-13 17:14:00</td>\n",
              "      <td>09-13 17:14:00</td>\n",
              "      <td>108.71650</td>\n",
              "      <td>30.90341</td>\n",
              "      <td>911</td>\n",
              "    </tr>\n",
              "    <tr>\n",
              "      <th>4</th>\n",
              "      <td>2752329</td>\n",
              "      <td>10</td>\n",
              "      <td>City1</td>\n",
              "      <td>3605</td>\n",
              "      <td>108.71608</td>\n",
              "      <td>30.90409</td>\n",
              "      <td>50</td>\n",
              "      <td>14</td>\n",
              "      <td>10-01 09:52:00</td>\n",
              "      <td>10-01 09:52:00</td>\n",
              "      <td>108.71820</td>\n",
              "      <td>30.95598</td>\n",
              "      <td>10-01 18:30:00</td>\n",
              "      <td>10-01 18:30:00</td>\n",
              "      <td>108.71413</td>\n",
              "      <td>30.90397</td>\n",
              "      <td>1001</td>\n",
              "    </tr>\n",
              "  </tbody>\n",
              "</table>\n",
              "</div>\n",
              "    <div class=\"colab-df-buttons\">\n",
              "\n",
              "  <div class=\"colab-df-container\">\n",
              "    <button class=\"colab-df-convert\" onclick=\"convertToInteractive('df-1743e471-99be-406c-b4c6-43328ef79b25')\"\n",
              "            title=\"Convert this dataframe to an interactive table.\"\n",
              "            style=\"display:none;\">\n",
              "\n",
              "  <svg xmlns=\"http://www.w3.org/2000/svg\" height=\"24px\" viewBox=\"0 -960 960 960\">\n",
              "    <path d=\"M120-120v-720h720v720H120Zm60-500h600v-160H180v160Zm220 220h160v-160H400v160Zm0 220h160v-160H400v160ZM180-400h160v-160H180v160Zm440 0h160v-160H620v160ZM180-180h160v-160H180v160Zm440 0h160v-160H620v160Z\"/>\n",
              "  </svg>\n",
              "    </button>\n",
              "\n",
              "  <style>\n",
              "    .colab-df-container {\n",
              "      display:flex;\n",
              "      gap: 12px;\n",
              "    }\n",
              "\n",
              "    .colab-df-convert {\n",
              "      background-color: #E8F0FE;\n",
              "      border: none;\n",
              "      border-radius: 50%;\n",
              "      cursor: pointer;\n",
              "      display: none;\n",
              "      fill: #1967D2;\n",
              "      height: 32px;\n",
              "      padding: 0 0 0 0;\n",
              "      width: 32px;\n",
              "    }\n",
              "\n",
              "    .colab-df-convert:hover {\n",
              "      background-color: #E2EBFA;\n",
              "      box-shadow: 0px 1px 2px rgba(60, 64, 67, 0.3), 0px 1px 3px 1px rgba(60, 64, 67, 0.15);\n",
              "      fill: #174EA6;\n",
              "    }\n",
              "\n",
              "    .colab-df-buttons div {\n",
              "      margin-bottom: 4px;\n",
              "    }\n",
              "\n",
              "    [theme=dark] .colab-df-convert {\n",
              "      background-color: #3B4455;\n",
              "      fill: #D2E3FC;\n",
              "    }\n",
              "\n",
              "    [theme=dark] .colab-df-convert:hover {\n",
              "      background-color: #434B5C;\n",
              "      box-shadow: 0px 1px 3px 1px rgba(0, 0, 0, 0.15);\n",
              "      filter: drop-shadow(0px 1px 2px rgba(0, 0, 0, 0.3));\n",
              "      fill: #FFFFFF;\n",
              "    }\n",
              "  </style>\n",
              "\n",
              "    <script>\n",
              "      const buttonEl =\n",
              "        document.querySelector('#df-1743e471-99be-406c-b4c6-43328ef79b25 button.colab-df-convert');\n",
              "      buttonEl.style.display =\n",
              "        google.colab.kernel.accessAllowed ? 'block' : 'none';\n",
              "\n",
              "      async function convertToInteractive(key) {\n",
              "        const element = document.querySelector('#df-1743e471-99be-406c-b4c6-43328ef79b25');\n",
              "        const dataTable =\n",
              "          await google.colab.kernel.invokeFunction('convertToInteractive',\n",
              "                                                    [key], {});\n",
              "        if (!dataTable) return;\n",
              "\n",
              "        const docLinkHtml = 'Like what you see? Visit the ' +\n",
              "          '<a target=\"_blank\" href=https://colab.research.google.com/notebooks/data_table.ipynb>data table notebook</a>'\n",
              "          + ' to learn more about interactive tables.';\n",
              "        element.innerHTML = '';\n",
              "        dataTable['output_type'] = 'display_data';\n",
              "        await google.colab.output.renderOutput(dataTable, element);\n",
              "        const docLink = document.createElement('div');\n",
              "        docLink.innerHTML = docLinkHtml;\n",
              "        element.appendChild(docLink);\n",
              "      }\n",
              "    </script>\n",
              "  </div>\n",
              "\n",
              "\n",
              "    <div id=\"df-55fb7598-a196-49a0-87a1-b20ce33e147a\">\n",
              "      <button class=\"colab-df-quickchart\" onclick=\"quickchart('df-55fb7598-a196-49a0-87a1-b20ce33e147a')\"\n",
              "                title=\"Suggest charts\"\n",
              "                style=\"display:none;\">\n",
              "\n",
              "<svg xmlns=\"http://www.w3.org/2000/svg\" height=\"24px\"viewBox=\"0 0 24 24\"\n",
              "     width=\"24px\">\n",
              "    <g>\n",
              "        <path d=\"M19 3H5c-1.1 0-2 .9-2 2v14c0 1.1.9 2 2 2h14c1.1 0 2-.9 2-2V5c0-1.1-.9-2-2-2zM9 17H7v-7h2v7zm4 0h-2V7h2v10zm4 0h-2v-4h2v4z\"/>\n",
              "    </g>\n",
              "</svg>\n",
              "      </button>\n",
              "\n",
              "<style>\n",
              "  .colab-df-quickchart {\n",
              "      --bg-color: #E8F0FE;\n",
              "      --fill-color: #1967D2;\n",
              "      --hover-bg-color: #E2EBFA;\n",
              "      --hover-fill-color: #174EA6;\n",
              "      --disabled-fill-color: #AAA;\n",
              "      --disabled-bg-color: #DDD;\n",
              "  }\n",
              "\n",
              "  [theme=dark] .colab-df-quickchart {\n",
              "      --bg-color: #3B4455;\n",
              "      --fill-color: #D2E3FC;\n",
              "      --hover-bg-color: #434B5C;\n",
              "      --hover-fill-color: #FFFFFF;\n",
              "      --disabled-bg-color: #3B4455;\n",
              "      --disabled-fill-color: #666;\n",
              "  }\n",
              "\n",
              "  .colab-df-quickchart {\n",
              "    background-color: var(--bg-color);\n",
              "    border: none;\n",
              "    border-radius: 50%;\n",
              "    cursor: pointer;\n",
              "    display: none;\n",
              "    fill: var(--fill-color);\n",
              "    height: 32px;\n",
              "    padding: 0;\n",
              "    width: 32px;\n",
              "  }\n",
              "\n",
              "  .colab-df-quickchart:hover {\n",
              "    background-color: var(--hover-bg-color);\n",
              "    box-shadow: 0 1px 2px rgba(60, 64, 67, 0.3), 0 1px 3px 1px rgba(60, 64, 67, 0.15);\n",
              "    fill: var(--button-hover-fill-color);\n",
              "  }\n",
              "\n",
              "  .colab-df-quickchart-complete:disabled,\n",
              "  .colab-df-quickchart-complete:disabled:hover {\n",
              "    background-color: var(--disabled-bg-color);\n",
              "    fill: var(--disabled-fill-color);\n",
              "    box-shadow: none;\n",
              "  }\n",
              "\n",
              "  .colab-df-spinner {\n",
              "    border: 2px solid var(--fill-color);\n",
              "    border-color: transparent;\n",
              "    border-bottom-color: var(--fill-color);\n",
              "    animation:\n",
              "      spin 1s steps(1) infinite;\n",
              "  }\n",
              "\n",
              "  @keyframes spin {\n",
              "    0% {\n",
              "      border-color: transparent;\n",
              "      border-bottom-color: var(--fill-color);\n",
              "      border-left-color: var(--fill-color);\n",
              "    }\n",
              "    20% {\n",
              "      border-color: transparent;\n",
              "      border-left-color: var(--fill-color);\n",
              "      border-top-color: var(--fill-color);\n",
              "    }\n",
              "    30% {\n",
              "      border-color: transparent;\n",
              "      border-left-color: var(--fill-color);\n",
              "      border-top-color: var(--fill-color);\n",
              "      border-right-color: var(--fill-color);\n",
              "    }\n",
              "    40% {\n",
              "      border-color: transparent;\n",
              "      border-right-color: var(--fill-color);\n",
              "      border-top-color: var(--fill-color);\n",
              "    }\n",
              "    60% {\n",
              "      border-color: transparent;\n",
              "      border-right-color: var(--fill-color);\n",
              "    }\n",
              "    80% {\n",
              "      border-color: transparent;\n",
              "      border-right-color: var(--fill-color);\n",
              "      border-bottom-color: var(--fill-color);\n",
              "    }\n",
              "    90% {\n",
              "      border-color: transparent;\n",
              "      border-bottom-color: var(--fill-color);\n",
              "    }\n",
              "  }\n",
              "</style>\n",
              "\n",
              "      <script>\n",
              "        async function quickchart(key) {\n",
              "          const quickchartButtonEl =\n",
              "            document.querySelector('#' + key + ' button');\n",
              "          quickchartButtonEl.disabled = true;  // To prevent multiple clicks.\n",
              "          quickchartButtonEl.classList.add('colab-df-spinner');\n",
              "          try {\n",
              "            const charts = await google.colab.kernel.invokeFunction(\n",
              "                'suggestCharts', [key], {});\n",
              "          } catch (error) {\n",
              "            console.error('Error during call to suggestCharts:', error);\n",
              "          }\n",
              "          quickchartButtonEl.classList.remove('colab-df-spinner');\n",
              "          quickchartButtonEl.classList.add('colab-df-quickchart-complete');\n",
              "        }\n",
              "        (() => {\n",
              "          let quickchartButtonEl =\n",
              "            document.querySelector('#df-55fb7598-a196-49a0-87a1-b20ce33e147a button');\n",
              "          quickchartButtonEl.style.display =\n",
              "            google.colab.kernel.accessAllowed ? 'block' : 'none';\n",
              "        })();\n",
              "      </script>\n",
              "    </div>\n",
              "\n",
              "    </div>\n",
              "  </div>\n"
            ],
            "application/vnd.google.colaboratory.intrinsic+json": {
              "type": "dataframe",
              "variable_name": "merged_df"
            }
          },
          "metadata": {},
          "execution_count": 11
        }
      ]
    },
    {
      "cell_type": "code",
      "source": [
        "print(\"Dataset shape:\", merged_df.shape)\n",
        "merged_df.info()\n"
      ],
      "metadata": {
        "colab": {
          "base_uri": "https://localhost:8080/"
        },
        "id": "JoduVAHav9R0",
        "outputId": "4e8e924c-c13d-48eb-8337-685dd5b92a0d"
      },
      "execution_count": 16,
      "outputs": [
        {
          "output_type": "stream",
          "name": "stdout",
          "text": [
            "Dataset shape: (4514661, 17)\n",
            "<class 'pandas.core.frame.DataFrame'>\n",
            "RangeIndex: 4514661 entries, 0 to 4514660\n",
            "Data columns (total 17 columns):\n",
            " #   Column             Dtype  \n",
            "---  ------             -----  \n",
            " 0   order_id           int64  \n",
            " 1   region_id          int64  \n",
            " 2   city               object \n",
            " 3   courier_id         int64  \n",
            " 4   lng                float64\n",
            " 5   lat                float64\n",
            " 6   aoi_id             int64  \n",
            " 7   aoi_type           int64  \n",
            " 8   accept_time        object \n",
            " 9   accept_gps_time    object \n",
            " 10  accept_gps_lng     float64\n",
            " 11  accept_gps_lat     float64\n",
            " 12  delivery_time      object \n",
            " 13  delivery_gps_time  object \n",
            " 14  delivery_gps_lng   float64\n",
            " 15  delivery_gps_lat   float64\n",
            " 16  ds                 int64  \n",
            "dtypes: float64(6), int64(6), object(5)\n",
            "memory usage: 585.6+ MB\n"
          ]
        }
      ]
    },
    {
      "cell_type": "code",
      "source": [
        "# Any remaining NaNs?\n",
        "missing_summary = merged_df.isnull().sum()\n",
        "print(\"Missing values per column:\\n\", missing_summary[missing_summary > 0])\n"
      ],
      "metadata": {
        "colab": {
          "base_uri": "https://localhost:8080/",
          "height": 176
        },
        "id": "KVoIq-_9wElM",
        "outputId": "64f5620e-6b89-4ad4-dab0-09ed18d1a036"
      },
      "execution_count": 1,
      "outputs": [
        {
          "output_type": "error",
          "ename": "NameError",
          "evalue": "name 'merged_df' is not defined",
          "traceback": [
            "\u001b[0;31m---------------------------------------------------------------------------\u001b[0m",
            "\u001b[0;31mNameError\u001b[0m                                 Traceback (most recent call last)",
            "\u001b[0;32m/tmp/ipython-input-1-4263717923.py\u001b[0m in \u001b[0;36m<cell line: 0>\u001b[0;34m()\u001b[0m\n\u001b[1;32m      1\u001b[0m \u001b[0;31m# Any remaining NaNs?\u001b[0m\u001b[0;34m\u001b[0m\u001b[0;34m\u001b[0m\u001b[0m\n\u001b[0;32m----> 2\u001b[0;31m \u001b[0mmissing_summary\u001b[0m \u001b[0;34m=\u001b[0m \u001b[0mmerged_df\u001b[0m\u001b[0;34m.\u001b[0m\u001b[0misnull\u001b[0m\u001b[0;34m(\u001b[0m\u001b[0;34m)\u001b[0m\u001b[0;34m.\u001b[0m\u001b[0msum\u001b[0m\u001b[0;34m(\u001b[0m\u001b[0;34m)\u001b[0m\u001b[0;34m\u001b[0m\u001b[0;34m\u001b[0m\u001b[0m\n\u001b[0m\u001b[1;32m      3\u001b[0m \u001b[0mprint\u001b[0m\u001b[0;34m(\u001b[0m\u001b[0;34m\"Missing values per column:\\n\"\u001b[0m\u001b[0;34m,\u001b[0m \u001b[0mmissing_summary\u001b[0m\u001b[0;34m[\u001b[0m\u001b[0mmissing_summary\u001b[0m \u001b[0;34m>\u001b[0m \u001b[0;36m0\u001b[0m\u001b[0;34m]\u001b[0m\u001b[0;34m)\u001b[0m\u001b[0;34m\u001b[0m\u001b[0;34m\u001b[0m\u001b[0m\n",
            "\u001b[0;31mNameError\u001b[0m: name 'merged_df' is not defined"
          ]
        }
      ]
    },
    {
      "cell_type": "code",
      "source": [
        "expected_columns = [\n",
        "    'pickup_hour', 'pickup_day', 'pickup_weekday', 'is_weekend',\n",
        "    'packages_assigned', 'has_gps_data', 'courier_id', 'pickup_time_x', 'delivery_time'\n",
        "]\n",
        "\n",
        "for col in expected_columns:\n",
        "    print(f\"{col}: {col in merged_df.columns}\")\n"
      ],
      "metadata": {
        "id": "lTmwJDTqwK-R"
      },
      "execution_count": null,
      "outputs": []
    },
    {
      "cell_type": "code",
      "source": [
        "print(merged_df['city_x'].value_counts())\n",
        "print(merged_df['city_y'].value_counts())\n"
      ],
      "metadata": {
        "id": "x31JuEOJwSmY"
      },
      "execution_count": null,
      "outputs": []
    },
    {
      "cell_type": "code",
      "source": [
        "merged_df.to_csv(\"final_cleaned_data.csv\", index=False)\n"
      ],
      "metadata": {
        "colab": {
          "base_uri": "https://localhost:8080/",
          "height": 141
        },
        "id": "ImgD4zpUb7YG",
        "outputId": "a5882640-84fe-438a-ec83-296f023ef026"
      },
      "execution_count": 2,
      "outputs": [
        {
          "output_type": "error",
          "ename": "NameError",
          "evalue": "name 'merged_df' is not defined",
          "traceback": [
            "\u001b[0;31m---------------------------------------------------------------------------\u001b[0m",
            "\u001b[0;31mNameError\u001b[0m                                 Traceback (most recent call last)",
            "\u001b[0;32m/tmp/ipython-input-2-3464204249.py\u001b[0m in \u001b[0;36m<cell line: 0>\u001b[0;34m()\u001b[0m\n\u001b[0;32m----> 1\u001b[0;31m \u001b[0mmerged_df\u001b[0m\u001b[0;34m.\u001b[0m\u001b[0mto_csv\u001b[0m\u001b[0;34m(\u001b[0m\u001b[0;34m\"final_cleaned_data.csv\"\u001b[0m\u001b[0;34m,\u001b[0m \u001b[0mindex\u001b[0m\u001b[0;34m=\u001b[0m\u001b[0;32mFalse\u001b[0m\u001b[0;34m)\u001b[0m\u001b[0;34m\u001b[0m\u001b[0;34m\u001b[0m\u001b[0m\n\u001b[0m",
            "\u001b[0;31mNameError\u001b[0m: name 'merged_df' is not defined"
          ]
        }
      ]
    }
  ]
}